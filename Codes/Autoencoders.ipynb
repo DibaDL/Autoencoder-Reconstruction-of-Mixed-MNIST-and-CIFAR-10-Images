{
 "cells": [
  {
   "cell_type": "markdown",
   "id": "f792914e",
   "metadata": {},
   "source": [
    "# __Author__  : Diba Elahi \n",
    "# Autoencoder Reconstruction of Mixed MNIST and CIFAR-10 Images"
   ]
  },
  {
   "cell_type": "markdown",
   "id": "f1c607cb",
   "metadata": {},
   "source": [
    "Importing libraries and modoules I need through exercise"
   ]
  },
  {
   "cell_type": "code",
   "execution_count": 124,
   "id": "038ec4e7",
   "metadata": {},
   "outputs": [],
   "source": [
    "import torch\n",
    "import torchvision\n",
    "import torchvision.transforms as transforms\n",
    "import matplotlib.pyplot as plt\n",
    "from PIL import Image\n",
    "from torch.utils.data import Dataset, DataLoader, Subset\n",
    "import numpy as np\n",
    "import torch.nn as nn\n",
    "import torch.optim as optim\n",
    "import random\n",
    "from skimage.metrics import structural_similarity as ssim\n",
    "from skimage.metrics import peak_signal_noise_ratio as psnr"
   ]
  },
  {
   "cell_type": "markdown",
   "id": "66891705",
   "metadata": {},
   "source": [
    "Dataset preparation, MNIST preparation and mean image computation. "
   ]
  },
  {
   "cell_type": "code",
   "execution_count": 125,
   "id": "a3fd3e5d",
   "metadata": {},
   "outputs": [],
   "source": [
    "class DuplicateChannels(object):\n",
    "    def __call__(self, img):\n",
    "        return img.repeat(3, 1, 1)  "
   ]
  },
  {
   "cell_type": "code",
   "execution_count": 126,
   "id": "e08aeabf",
   "metadata": {},
   "outputs": [],
   "source": [
    "transform_mnist = transforms.Compose([transforms.ToTensor(), transforms.Resize((32, 32)), transforms.Normalize((0.5, ), (0.5, )), DuplicateChannels()])"
   ]
  },
  {
   "cell_type": "code",
   "execution_count": 127,
   "id": "02e3cb4f",
   "metadata": {},
   "outputs": [],
   "source": [
    "transform_cifar = transforms.Compose([transforms.ToTensor(), transforms.Normalize((0.5, 0.5, 0.5), (0.5, 0.5, 0.5))])"
   ]
  },
  {
   "cell_type": "code",
   "execution_count": 128,
   "id": "ad953f46",
   "metadata": {},
   "outputs": [],
   "source": [
    "mnist_dataset = torchvision.datasets.MNIST(root='./data', train=True, transform=transform_mnist, download=True)"
   ]
  },
  {
   "cell_type": "code",
   "execution_count": 129,
   "id": "f58f2a74",
   "metadata": {},
   "outputs": [
    {
     "name": "stdout",
     "output_type": "stream",
     "text": [
      "Files already downloaded and verified\n"
     ]
    }
   ],
   "source": [
    "cifar_dataset = torchvision.datasets.CIFAR10(root='./data', train=True, download=True, transform=transform_cifar)"
   ]
  },
  {
   "cell_type": "code",
   "execution_count": 130,
   "id": "8a0fa2fd",
   "metadata": {},
   "outputs": [],
   "source": [
    "min_size = min(len(mnist_dataset), len(cifar_dataset))\n",
    "mnist_dataset = Subset(mnist_dataset, range(min_size))\n",
    "cifar_dataset = Subset(cifar_dataset, range(min_size))"
   ]
  },
  {
   "cell_type": "code",
   "execution_count": 131,
   "id": "cefdd84f",
   "metadata": {},
   "outputs": [],
   "source": [
    "mnist_loader = torch.utils.data.DataLoader(mnist_dataset, batch_size=64, shuffle=True)"
   ]
  },
  {
   "cell_type": "code",
   "execution_count": 132,
   "id": "38f3fdfb",
   "metadata": {},
   "outputs": [],
   "source": [
    "cifar_loader = torch.utils.data.DataLoader(cifar_dataset, batch_size=64, shuffle=True)"
   ]
  },
  {
   "cell_type": "code",
   "execution_count": 133,
   "id": "26f3c6b2",
   "metadata": {},
   "outputs": [
    {
     "name": "stdout",
     "output_type": "stream",
     "text": [
      "<class 'torch.Tensor'>\n",
      "torch.Size([64, 3, 32, 32])\n",
      "torch.Size([64])\n"
     ]
    }
   ],
   "source": [
    "data_iter = iter(mnist_loader)\n",
    "images_mnist, labels_mnist = next(data_iter)\n",
    "print(type(images))\n",
    "print(images_mnist.shape)\n",
    "print(labels_mnist.shape)"
   ]
  },
  {
   "cell_type": "code",
   "execution_count": 134,
   "id": "da4ea6b4",
   "metadata": {},
   "outputs": [
    {
     "name": "stdout",
     "output_type": "stream",
     "text": [
      "<class 'torch.Tensor'>\n",
      "torch.Size([64, 3, 32, 32])\n",
      "torch.Size([64])\n"
     ]
    }
   ],
   "source": [
    "data_iter_cifar = iter(cifar_loader)\n",
    "images_cifar, labels_cifar = next(data_iter_cifar)\n",
    "print(type(images))\n",
    "print(images_cifar.shape)\n",
    "print(labels_cifar.shape)"
   ]
  },
  {
   "cell_type": "code",
   "execution_count": 136,
   "id": "b0b195df",
   "metadata": {},
   "outputs": [],
   "source": [
    "class CombinedDataset(Dataset):\n",
    "    def __init__(self, dataset1, dataset2):\n",
    "        self.dataset1 = dataset1\n",
    "        self.dataset2 = dataset2\n",
    "        assert len(self.dataset1) == len(self.dataset2)\n",
    "\n",
    "    def __len__(self):\n",
    "        return len(self.dataset1)\n",
    "\n",
    "    def __getitem__(self, idx):\n",
    "        img1, label1 = self.dataset1[idx]\n",
    "        img2, label2 = self.dataset2[idx]\n",
    "        combined_img = (img1 + img2) / 2\n",
    "        return combined_img, (label1, label2)\n"
   ]
  },
  {
   "cell_type": "code",
   "execution_count": 137,
   "id": "69fa5d78",
   "metadata": {},
   "outputs": [],
   "source": [
    "mean_dataset = CombinedDataset(mnist_dataset, cifar_dataset)\n",
    "mean_loader = DataLoader(mean_dataset, batch_size=64, shuffle=True)"
   ]
  },
  {
   "cell_type": "markdown",
   "id": "782bf809",
   "metadata": {},
   "source": [
    "Autoencoder Model Construction"
   ]
  },
  {
   "cell_type": "code",
   "execution_count": 138,
   "id": "e5c9b7cf",
   "metadata": {},
   "outputs": [],
   "source": [
    "class Autoencoder(nn.Module):\n",
    "    def __init__(self):\n",
    "        super(Autoencoder, self).__init__()\n",
    "        self.encoder = nn.Sequential(\n",
    "            nn.Conv2d(3, 64, kernel_size=3, stride=2, padding=1),  # b, 64, 16, 16\n",
    "            nn.ReLU(),\n",
    "            nn.Conv2d(64, 128, kernel_size=3, stride=2, padding=1),  # b, 128, 8, 8\n",
    "            nn.ReLU(),\n",
    "            nn.Conv2d(128, 256, kernel_size=3, stride=2, padding=1),  # b, 256, 4, 4\n",
    "            nn.ReLU()\n",
    "        )\n",
    "        self.decoder = nn.Sequential(\n",
    "            nn.ConvTranspose2d(256, 128, kernel_size=3, stride=2, padding=1, output_padding=1),  # b, 128, 8, 8\n",
    "            nn.ReLU(),\n",
    "            nn.ConvTranspose2d(128, 64, kernel_size=3, stride=2, padding=1, output_padding=1),  # b, 64, 16, 16\n",
    "            nn.ReLU(),\n",
    "            nn.ConvTranspose2d(64, 3, kernel_size=3, stride=2, padding=1, output_padding=1),  # b, 3, 32, 32\n",
    "            nn.Tanh()\n",
    "        )\n",
    "\n",
    "    def forward(self, x):\n",
    "        x = self.encoder(x)\n",
    "        x = self.decoder(x)\n",
    "        return x"
   ]
  },
  {
   "cell_type": "markdown",
   "id": "d7e8107f",
   "metadata": {},
   "source": [
    "Training"
   ]
  },
  {
   "cell_type": "code",
   "execution_count": 139,
   "id": "cb194ec2",
   "metadata": {},
   "outputs": [],
   "source": [
    "autoencoder = Autoencoder()\n",
    "loss_function = nn.MSELoss()\n",
    "optimizer = optim.Adam(autoencoder.parameters(), lr=0.001)"
   ]
  },
  {
   "cell_type": "code",
   "execution_count": 140,
   "id": "d58167a6",
   "metadata": {},
   "outputs": [
    {
     "name": "stdout",
     "output_type": "stream",
     "text": [
      "Epoch 1, Loss: 0.0057\n",
      "Epoch 2, Loss: 0.0028\n",
      "Epoch 3, Loss: 0.0023\n",
      "Epoch 4, Loss: 0.0018\n",
      "Epoch 5, Loss: 0.0014\n",
      "Epoch 6, Loss: 0.0018\n",
      "Epoch 7, Loss: 0.0014\n",
      "Epoch 8, Loss: 0.0016\n",
      "Epoch 9, Loss: 0.0011\n",
      "Epoch 10, Loss: 0.0009\n"
     ]
    }
   ],
   "source": [
    "num_epochs = 10\n",
    "for epoch in range(num_epochs):\n",
    "    for images, _ in mean_loader:\n",
    "        outputs = autoencoder(images)\n",
    "        loss = loss_function(outputs, images)\n",
    "        optimizer.zero_grad()\n",
    "        loss.backward()\n",
    "        optimizer.step()\n",
    "\n",
    "    print(f'Epoch {epoch+1}, Loss: {loss.item():.4f}')"
   ]
  },
  {
   "cell_type": "markdown",
   "id": "2829e420",
   "metadata": {},
   "source": [
    "Evaluation"
   ]
  },
  {
   "cell_type": "code",
   "execution_count": 151,
   "id": "6cd64e23",
   "metadata": {},
   "outputs": [],
   "source": [
    "mnist_index = random.randint(0, len(mnist_dataset) - 1)\n",
    "cifar_index = random.randint(0, len(cifar_dataset) - 1)"
   ]
  },
  {
   "cell_type": "code",
   "execution_count": 152,
   "id": "12082b93",
   "metadata": {},
   "outputs": [
    {
     "name": "stderr",
     "output_type": "stream",
     "text": [
      "Clipping input data to the valid range for imshow with RGB data ([0..1] for floats or [0..255] for integers).\n"
     ]
    },
    {
     "data": {
      "image/png": "[encoded data removed]",
      "text/plain": [
       "<Figure size 432x288 with 1 Axes>"
      ]
     },
     "metadata": {
      "needs_background": "light"
     },
     "output_type": "display_data"
    }
   ],
   "source": [
    "image1, _ = mnist_dataset[mnist_index]\n",
    "image1_show = image1.numpy().transpose((1, 2, 0))\n",
    "plt.imshow(image1_show)\n",
    "plt.show()"
   ]
  },
  {
   "cell_type": "code",
   "execution_count": 153,
   "id": "84ba3186",
   "metadata": {},
   "outputs": [
    {
     "name": "stderr",
     "output_type": "stream",
     "text": [
      "Clipping input data to the valid range for imshow with RGB data ([0..1] for floats or [0..255] for integers).\n"
     ]
    },
    {
     "data": {
      "image/png": "[encoded data removed]",
      "text/plain": [
       "<Figure size 432x288 with 1 Axes>"
      ]
     },
     "metadata": {
      "needs_background": "light"
     },
     "output_type": "display_data"
    }
   ],
   "source": [
    "image2, _ = cifar_dataset[cifar_index]\n",
    "image2_show = image2.numpy().transpose((1, 2, 0))\n",
    "plt.imshow(image2_show)\n",
    "plt.axis('off')  # Hide the axes\n",
    "plt.show()"
   ]
  },
  {
   "cell_type": "code",
   "execution_count": 154,
   "id": "a4d531d8",
   "metadata": {},
   "outputs": [
    {
     "name": "stderr",
     "output_type": "stream",
     "text": [
      "Clipping input data to the valid range for imshow with RGB data ([0..1] for floats or [0..255] for integers).\n"
     ]
    },
    {
     "data": {
      "image/png": "[encoded data removed]",
      "text/plain": [
       "<Figure size 432x288 with 1 Axes>"
      ]
     },
     "metadata": {
      "needs_background": "light"
     },
     "output_type": "display_data"
    }
   ],
   "source": [
    "mean_image = (image1 + image2) / 2\n",
    "mean_image_np = mean_image.numpy().transpose((1, 2, 0))\n",
    "plt.imshow(mean_image_np)\n",
    "plt.show()"
   ]
  },
  {
   "cell_type": "code",
   "execution_count": 145,
   "id": "c26a486e",
   "metadata": {},
   "outputs": [
    {
     "data": {
      "text/plain": [
       "<All keys matched successfully>"
      ]
     },
     "execution_count": 145,
     "metadata": {},
     "output_type": "execute_result"
    }
   ],
   "source": [
    "torch.save(autoencoder.state_dict(), 'autoencoder.pth')\n",
    "autoencoder.load_state_dict(torch.load('autoencoder.pth'))"
   ]
  },
  {
   "cell_type": "code",
   "execution_count": 155,
   "id": "c8ad42b3",
   "metadata": {},
   "outputs": [],
   "source": [
    "autoencoder.eval()\n",
    "with torch.no_grad():\n",
    "    reconstructed_image = autoencoder(mean_image)"
   ]
  },
  {
   "cell_type": "code",
   "execution_count": 156,
   "id": "f01f0545",
   "metadata": {},
   "outputs": [
    {
     "name": "stderr",
     "output_type": "stream",
     "text": [
      "Clipping input data to the valid range for imshow with RGB data ([0..1] for floats or [0..255] for integers).\n"
     ]
    },
    {
     "data": {
      "image/png": "[encoded data removed]",
      "text/plain": [
       "<Figure size 432x288 with 1 Axes>"
      ]
     },
     "metadata": {
      "needs_background": "light"
     },
     "output_type": "display_data"
    }
   ],
   "source": [
    "reconstructed_image_show = reconstructed_image.numpy().transpose((1, 2, 0))\n",
    "plt.imshow(reconstructed_image_show)\n",
    "plt.show()"
   ]
  },
  {
   "cell_type": "code",
   "execution_count": 157,
   "id": "8eb0ac0a",
   "metadata": {},
   "outputs": [
    {
     "name": "stdout",
     "output_type": "stream",
     "text": [
      "MNIST SSIM: 0.42971372604370117, CIFAR-10 SSIM: 0.16572630405426025\n",
      "MNIST PSNR: 13.044048751245658, CIFAR-10 PSNR: 12.903041612869998\n"
     ]
    },
    {
     "name": "stderr",
     "output_type": "stream",
     "text": [
      "/var/folders/pl/rj51d0nd3px9yj51mmkwv1d40000gn/T/ipykernel_902/3292856353.py:1: FutureWarning: `multichannel` is a deprecated argument name for `structural_similarity`. It will be removed in version 1.0. Please use `channel_axis` instead.\n",
      "  mnist_ssim = ssim(image1.squeeze().permute(1, 2, 0).cpu().numpy(), reconstructed_image.squeeze().permute(1, 2, 0).cpu().numpy(), multichannel=True)\n",
      "/var/folders/pl/rj51d0nd3px9yj51mmkwv1d40000gn/T/ipykernel_902/3292856353.py:2: FutureWarning: `multichannel` is a deprecated argument name for `structural_similarity`. It will be removed in version 1.0. Please use `channel_axis` instead.\n",
      "  cifar_ssim = ssim(image2.squeeze().permute(1, 2, 0).cpu().numpy(), reconstructed_image.squeeze().permute(1, 2, 0).cpu().numpy(), multichannel=True)\n"
     ]
    }
   ],
   "source": [
    "mnist_ssim = ssim(image1.squeeze().permute(1, 2, 0).cpu().numpy(), reconstructed_image.squeeze().permute(1, 2, 0).cpu().numpy(), multichannel=True)\n",
    "cifar_ssim = ssim(image2.squeeze().permute(1, 2, 0).cpu().numpy(), reconstructed_image.squeeze().permute(1, 2, 0).cpu().numpy(), multichannel=True)\n",
    "\n",
    "mnist_psnr = psnr(image1.squeeze().permute(1, 2, 0).cpu().numpy(), reconstructed_image.squeeze().permute(1, 2, 0).cpu().numpy())\n",
    "cifar_psnr = psnr(image2.squeeze().permute(1, 2, 0).cpu().numpy(), reconstructed_image.squeeze().permute(1, 2, 0).cpu().numpy())\n",
    "\n",
    "print(f\"MNIST SSIM: {mnist_ssim}, CIFAR-10 SSIM: {cifar_ssim}\")\n",
    "print(f\"MNIST PSNR: {mnist_psnr}, CIFAR-10 PSNR: {cifar_psnr}\")"
   ]
  },
  {
   "cell_type": "code",
   "execution_count": 158,
   "id": "610a6445",
   "metadata": {},
   "outputs": [
    {
     "name": "stderr",
     "output_type": "stream",
     "text": [
      "Clipping input data to the valid range for imshow with RGB data ([0..1] for floats or [0..255] for integers).\n",
      "Clipping input data to the valid range for imshow with RGB data ([0..1] for floats or [0..255] for integers).\n",
      "Clipping input data to the valid range for imshow with RGB data ([0..1] for floats or [0..255] for integers).\n"
     ]
    },
    {
     "data": {
      "image/png": "[encoded data removed]",
      "text/plain": [
       "<Figure size 1080x360 with 3 Axes>"
      ]
     },
     "metadata": {
      "needs_background": "light"
     },
     "output_type": "display_data"
    }
   ],
   "source": [
    "fig, axs = plt.subplots(1, 3, figsize=(15, 5))\n",
    "\n",
    "axs[0].imshow(image1.numpy().transpose((1, 2, 0)))\n",
    "axs[0].set_title('MNIST')\n",
    "\n",
    "axs[1].imshow(image2.numpy().transpose((1, 2, 0)))\n",
    "axs[1].set_title('CIFAR')\n",
    "\n",
    "axs[2].imshow(reconstructed_image.numpy().transpose((1, 2, 0)))\n",
    "axs[2].set_title('RECONSTRUCTED BY AUTOENCODER')\n",
    "\n",
    "plt.show()"
   ]
  },
  {
   "cell_type": "code",
   "execution_count": null,
   "id": "ea3d4538",
   "metadata": {},
   "outputs": [],
   "source": []
  }
 ],
 "metadata": {
  "kernelspec": {
   "display_name": "Python 3 (ipykernel)",
   "language": "python",
   "name": "python3"
  },
  "language_info": {
   "codemirror_mode": {
    "name": "ipython",
    "version": 3
   },
   "file_extension": ".py",
   "mimetype": "text/x-python",
   "name": "python",
   "nbconvert_exporter": "python",
   "pygments_lexer": "ipython3",
   "version": "3.9.12"
  }
 },
 "nbformat": 4,
 "nbformat_minor": 5
}
